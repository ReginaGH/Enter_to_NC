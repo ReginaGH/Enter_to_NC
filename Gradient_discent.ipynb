{
 "cells": [
  {
   "cell_type": "markdown",
   "id": "90b14e74",
   "metadata": {},
   "source": [
    "## Метод градиентного спуска"
   ]
  },
  {
   "cell_type": "code",
   "execution_count": 1,
   "id": "372927a4",
   "metadata": {},
   "outputs": [],
   "source": [
    "import numpy as np\n",
    "import time\n",
    "import matplotlib.pyplot as plt"
   ]
  },
  {
   "cell_type": "code",
   "execution_count": 9,
   "id": "5819d04d",
   "metadata": {},
   "outputs": [
    {
     "name": "stdout",
     "output_type": "stream",
     "text": [
      "2.471176962384829\n"
     ]
    },
    {
     "data": {
      "image/png": "[encoded data removed]",
      "text/plain": [
       "<Figure size 640x480 with 1 Axes>"
      ]
     },
     "metadata": {},
     "output_type": "display_data"
    }
   ],
   "source": [
    "def f(x):\n",
    "    return x**2 -5*x + 5  # для примера берём произвольную функцию\n",
    "\n",
    "def df(x):\n",
    "    return 2*x - 5  # производная для вычисления градиента\n",
    "\n",
    "# зададим параметра алгоритма:\n",
    "N = 20  # кол-во итераций\n",
    "xx = 0  # начальное значение\n",
    "lmb = 0.1  # шаг сходимости\n",
    "\n",
    "x_plt = np.arange(0, 0.5, 0.1)  # изменение аргумента от 0 до 5 с шагом 0,1\n",
    "f_plt = [f(x) for x in x_plt]  # эта переменная нужна для визуализации процесса\n",
    "\n",
    "plt.ion()  # включение интерактивного режима отображение графиков\n",
    "fig, ax = plt.subplots()  # создание окна и осей для графика\n",
    "ax.grid(True)  # отображение сетки на графике\n",
    "\n",
    "ax.plot(x_plt, f_plt)  # отображение параболы\n",
    "point = ax.scatter(xx, f(xx), c='red')  # отображение точки красным цветом\n",
    "\n",
    "# запускаем алгоритм\n",
    "for i in range(N):\n",
    "    xx = xx - lmb * df(xx)  # изменение аргумента на текущей итерации\n",
    "    \n",
    "    point.set_offsets([xx, f(xx)])  # отображение нового положения точки\n",
    "    \n",
    "    # перерисовка графика и задержка на 20 мс\n",
    "    fig.canvas.draw()\n",
    "    fig.canvas.flush_events()\n",
    "    time.sleep(0.02)\n",
    "    \n",
    "plt.ioff()  # отключение интерактивного режима\n",
    "print(xx)\n",
    "ax.scatter(xx, f(xx), c='blue')  # отображение точки\n",
    "plt.show()"
   ]
  },
  {
   "cell_type": "code",
   "execution_count": null,
   "id": "add92159",
   "metadata": {},
   "outputs": [],
   "source": []
  }
 ],
 "metadata": {
  "kernelspec": {
   "display_name": "Python 3 (ipykernel)",
   "language": "python",
   "name": "python3"
  },
  "language_info": {
   "codemirror_mode": {
    "name": "ipython",
    "version": 3
   },
   "file_extension": ".py",
   "mimetype": "text/x-python",
   "name": "python",
   "nbconvert_exporter": "python",
   "pygments_lexer": "ipython3",
   "version": "3.11.2"
  }
 },
 "nbformat": 4,
 "nbformat_minor": 5
}
